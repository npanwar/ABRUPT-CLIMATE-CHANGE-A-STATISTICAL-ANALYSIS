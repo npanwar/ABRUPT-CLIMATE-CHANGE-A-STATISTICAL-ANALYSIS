{
 "cells": [
  {
   "cell_type": "markdown",
   "metadata": {},
   "source": [
    "## Classification done by :\n",
    "* Bag of words\n",
    "* tfidf\n",
    "* N-grams"
   ]
  },
  {
   "cell_type": "code",
   "execution_count": 15,
   "metadata": {
    "collapsed": true
   },
   "outputs": [],
   "source": [
    "# Loading necessary modules\n",
    "import pandas as pd              # for data processing; csv file i/o (pd.read_csv)\n",
    "import numpy as np               # for linear algebra\n",
    "import matplotlib.pyplot as plt  # for visualization\n",
    "%matplotlib inline"
   ]
  },
  {
   "cell_type": "code",
   "execution_count": 16,
   "metadata": {
    "collapsed": true
   },
   "outputs": [],
   "source": [
    "# Loading the dataset\n",
    "tweet_df = pd.read_csv('C:/Users/sande/Major Project/Dataset/climate_change_tweet.csv',encoding=\"ISO-8859-1\")\n",
    "df_without_preprocess = pd.read_csv('C:/Users/sande/Major Project/Dataset/climate_change_tweet.csv',encoding = \"ISO-8859-1\")"
   ]
  },
  {
   "cell_type": "code",
   "execution_count": 17,
   "metadata": {},
   "outputs": [
    {
     "data": {
      "text/html": [
       "<div>\n",
       "<style>\n",
       "    .dataframe thead tr:only-child th {\n",
       "        text-align: right;\n",
       "    }\n",
       "\n",
       "    .dataframe thead th {\n",
       "        text-align: left;\n",
       "    }\n",
       "\n",
       "    .dataframe tbody tr th {\n",
       "        vertical-align: top;\n",
       "    }\n",
       "</style>\n",
       "<table border=\"1\" class=\"dataframe\">\n",
       "  <thead>\n",
       "    <tr style=\"text-align: right;\">\n",
       "      <th></th>\n",
       "      <th>tweet</th>\n",
       "      <th>existence</th>\n",
       "      <th>existence_confidence</th>\n",
       "    </tr>\n",
       "  </thead>\n",
       "  <tbody>\n",
       "    <tr>\n",
       "      <th>6092</th>\n",
       "      <td>Climate change is real.</td>\n",
       "      <td>Yes</td>\n",
       "      <td>1.0</td>\n",
       "    </tr>\n",
       "    <tr>\n",
       "      <th>6093</th>\n",
       "      <td>global warming is a good thing</td>\n",
       "      <td>No</td>\n",
       "      <td>1.0</td>\n",
       "    </tr>\n",
       "    <tr>\n",
       "      <th>6094</th>\n",
       "      <td>Climate change is real. Science is real. Pleas...</td>\n",
       "      <td>Yes</td>\n",
       "      <td>1.0</td>\n",
       "    </tr>\n",
       "    <tr>\n",
       "      <th>6095</th>\n",
       "      <td>RT @nyc_erik: Climate change is REAL.</td>\n",
       "      <td>Yes</td>\n",
       "      <td>1.0</td>\n",
       "    </tr>\n",
       "    <tr>\n",
       "      <th>6096</th>\n",
       "      <td>99.9% of scientists agree climate change is ha...</td>\n",
       "      <td>NaN</td>\n",
       "      <td>1.0</td>\n",
       "    </tr>\n",
       "  </tbody>\n",
       "</table>\n",
       "</div>"
      ],
      "text/plain": [
       "                                                  tweet existence  \\\n",
       "6092                            Climate change is real.       Yes   \n",
       "6093                     global warming is a good thing        No   \n",
       "6094  Climate change is real. Science is real. Pleas...       Yes   \n",
       "6095              RT @nyc_erik: Climate change is REAL.       Yes   \n",
       "6096  99.9% of scientists agree climate change is ha...       NaN   \n",
       "\n",
       "      existence_confidence  \n",
       "6092                   1.0  \n",
       "6093                   1.0  \n",
       "6094                   1.0  \n",
       "6095                   1.0  \n",
       "6096                   1.0  "
      ]
     },
     "execution_count": 17,
     "metadata": {},
     "output_type": "execute_result"
    }
   ],
   "source": [
    "#tweet_df = tweet_df.dropna(how='any')\n",
    "tweet_df.head()\n",
    "tweet_df.tail()"
   ]
  },
  {
   "cell_type": "code",
   "execution_count": 23,
   "metadata": {},
   "outputs": [
    {
     "name": "stdout",
     "output_type": "stream",
     "text": [
      "type of climate tweet text:  <class 'pandas.core.series.Series'>\n"
     ]
    }
   ],
   "source": [
    "print(\"type of climate tweet text: \", type(tweet_df['tweet']))\n",
    "tweet_df = tweet_df.dropna(how='any')\n"
   ]
  },
  {
   "cell_type": "code",
   "execution_count": 27,
   "metadata": {},
   "outputs": [
    {
     "name": "stdout",
     "output_type": "stream",
     "text": [
      "4231\n"
     ]
    }
   ],
   "source": [
    "print(len(tweet_df))\n",
    "tweet_df.existence.replace(['Yes', 'No', 'Y', 'N'], ['yes', 'no', 'yes', 'no'], inplace=True)\n",
    "tweet_df = tweet_df.reset_index(drop=True)"
   ]
  },
  {
   "cell_type": "code",
   "execution_count": 28,
   "metadata": {},
   "outputs": [],
   "source": [
    "tweets = []\n",
    "labels = []\n",
    "for i, label in enumerate(tweet_df['existence']):\n",
    "    tweets.append(tweet_df['tweet'][i])\n",
    "    if label == 'no':\n",
    "        labels.append(0)\n",
    "    else:\n",
    "        labels.append(1)"
   ]
  },
  {
   "cell_type": "code",
   "execution_count": 29,
   "metadata": {
    "collapsed": true
   },
   "outputs": [],
   "source": [
    "tweets = np.asarray(tweets)\n",
    "labels = np.asarray(labels)"
   ]
  },
  {
   "cell_type": "code",
   "execution_count": 30,
   "metadata": {},
   "outputs": [
    {
     "name": "stdout",
     "output_type": "stream",
     "text": [
      "number of texts : 4231\n",
      "number of labels:  4231\n"
     ]
    }
   ],
   "source": [
    "print(\"number of texts :\" , len(tweets))\n",
    "print(\"number of labels: \", len(labels))"
   ]
  },
  {
   "cell_type": "code",
   "execution_count": 31,
   "metadata": {},
   "outputs": [
    {
     "name": "stdout",
     "output_type": "stream",
     "text": [
      "<class 'numpy.ndarray'>\n"
     ]
    }
   ],
   "source": [
    "print(type(tweets))"
   ]
  },
  {
   "cell_type": "code",
   "execution_count": 32,
   "metadata": {},
   "outputs": [
    {
     "name": "stdout",
     "output_type": "stream",
     "text": [
      "Global warming report urges governments to act|BRUSSELS, Belgium (AP) The world faces increased hunger and  [link]\n"
     ]
    }
   ],
   "source": [
    "print(tweets[0])"
   ]
  },
  {
   "cell_type": "code",
   "execution_count": 33,
   "metadata": {},
   "outputs": [
    {
     "name": "stdout",
     "output_type": "stream",
     "text": [
      "[0 1]\n",
      "[1115 3116]\n"
     ]
    }
   ],
   "source": [
    "print(np.unique(labels))\n",
    "print(np.bincount(labels))"
   ]
  },
  {
   "cell_type": "code",
   "execution_count": 34,
   "metadata": {},
   "outputs": [
    {
     "data": {
      "text/plain": [
       "2.7946188340807177"
      ]
     },
     "execution_count": 34,
     "metadata": {},
     "output_type": "execute_result"
    }
   ],
   "source": [
    "3116/1115    #More positive"
   ]
  },
  {
   "cell_type": "code",
   "execution_count": 35,
   "metadata": {},
   "outputs": [
    {
     "name": "stdout",
     "output_type": "stream",
     "text": [
      "True\n",
      " training data 3384, validation data 847 \n"
     ]
    }
   ],
   "source": [
    "np.random.seed(42)\n",
    "# shuffle data\n",
    "indices = np.arange(tweet_df.shape[0])\n",
    "np.random.shuffle(indices)\n",
    "tweets = tweets[indices]\n",
    "labels = labels[indices]\n",
    "\n",
    "# we will use 80% of data as training, 20% as validation data\n",
    "total_training_samples = int(4231 * .8)\n",
    "total_validation_samples = int(4231 - total_training_samples)\n",
    "# sanity check\n",
    "print(len(tweets) == (total_training_samples + total_validation_samples))\n",
    "print(\" training data {0}, validation data {1} \".format(total_training_samples, total_validation_samples))\n",
    "\n",
    "tweets_train = tweets[:total_training_samples]\n",
    "y_train = labels[:total_training_samples]\n",
    "tweets_test = tweets[total_training_samples:]\n",
    "y_test = labels[total_training_samples:]"
   ]
  },
  {
   "cell_type": "markdown",
   "metadata": {},
   "source": [
    "## Bag of words\n",
    "#### Transform texts into bag of words matrix(number of columns == number of unique words, number of rows == total set "
   ]
  },
  {
   "cell_type": "code",
   "execution_count": 36,
   "metadata": {},
   "outputs": [
    {
     "name": "stdout",
     "output_type": "stream",
     "text": [
      "tokenization\n",
      "{'it': 6, 'is': 5, 'hot': 4, 'today': 9, 'and': 0, 'does': 2, 'not': 8, 'like': 7, 'he': 3, 'burger': 1} \n",
      "\n",
      "Transformed sparse matrix is: \n",
      "[[1 0 1 0 1 1 2 1 1 1]\n",
      " [0 1 0 1 0 0 0 1 0 0]]\n"
     ]
    }
   ],
   "source": [
    "# Example\n",
    "sample = [\"It is hot today and I does not like it, \", \n",
    "               \"he like burger\"]\n",
    "from sklearn.feature_extraction.text import CountVectorizer\n",
    "vect = CountVectorizer()\n",
    "# tokenizing the sample (split the sample text into each unique word)\n",
    "vect.fit(sample)\n",
    "print(\"tokenization\")\n",
    "print(vect.vocabulary_, \"\\n\")\n",
    "\n",
    "# transform document into a matrix(the number indicates the number of words showing up in the document)\n",
    "bag_of_words = vect.transform(sample)\n",
    "print(\"Transformed sparse matrix is: \")\n",
    "print(bag_of_words.toarray())"
   ]
  },
  {
   "cell_type": "code",
   "execution_count": 37,
   "metadata": {},
   "outputs": [
    {
     "name": "stdout",
     "output_type": "stream",
     "text": [
      "<3384x9056 sparse matrix of type '<class 'numpy.int64'>'\n",
      "\twith 56691 stored elements in Compressed Sparse Row format>\n"
     ]
    }
   ],
   "source": [
    "from sklearn.feature_extraction.text import CountVectorizer\n",
    "vect = CountVectorizer().fit(tweets_train)\n",
    "X_train = vect.transform(tweets_train)\n",
    "print(repr(X_train))"
   ]
  },
  {
   "cell_type": "code",
   "execution_count": 38,
   "metadata": {},
   "outputs": [
    {
     "data": {
      "text/plain": [
       "(3384, 9056)"
      ]
     },
     "execution_count": 38,
     "metadata": {},
     "output_type": "execute_result"
    }
   ],
   "source": [
    "X_train.shape"
   ]
  },
  {
   "cell_type": "code",
   "execution_count": 39,
   "metadata": {
    "collapsed": true
   },
   "outputs": [],
   "source": [
    "X_test = vect.transform(tweets_test)"
   ]
  },
  {
   "cell_type": "code",
   "execution_count": 40,
   "metadata": {},
   "outputs": [
    {
     "data": {
      "text/plain": [
       "array([ 889, 2495], dtype=int64)"
      ]
     },
     "execution_count": 40,
     "metadata": {},
     "output_type": "execute_result"
    }
   ],
   "source": [
    "np.bincount(y_train)"
   ]
  },
  {
   "cell_type": "code",
   "execution_count": 41,
   "metadata": {
    "collapsed": true
   },
   "outputs": [],
   "source": [
    "from sklearn.pipeline import make_pipeline\n",
    "from sklearn.model_selection import GridSearchCV\n",
    "from sklearn.metrics import confusion_matrix\n",
    "from sklearn.linear_model import LogisticRegression\n",
    "\n",
    "logreg = LogisticRegression()\n",
    "param_grid = {'C': [0.01, 0.1, 1, 10, 100]}\n",
    "\n",
    "grid = GridSearchCV(logreg, param_grid, cv=5)\n",
    "logreg_train = grid.fit(X_train, y_train)"
   ]
  },
  {
   "cell_type": "code",
   "execution_count": 42,
   "metadata": {},
   "outputs": [
    {
     "name": "stdout",
     "output_type": "stream",
     "text": [
      "LogisticRegression(C=10, class_weight=None, dual=False, fit_intercept=True,\n",
      "          intercept_scaling=1, max_iter=100, multi_class='ovr', n_jobs=1,\n",
      "          penalty='l2', random_state=None, solver='liblinear', tol=0.0001,\n",
      "          verbose=0, warm_start=False)\n"
     ]
    }
   ],
   "source": [
    "print(grid.best_estimator_)"
   ]
  },
  {
   "cell_type": "code",
   "execution_count": 43,
   "metadata": {},
   "outputs": [
    {
     "name": "stdout",
     "output_type": "stream",
     "text": [
      "accuracy is:  0.82880755608\n"
     ]
    }
   ],
   "source": [
    "# logreg = LogisticRegression(C=0.1).fit(X_train, y_train)\n",
    "pred_logreg = logreg_train.predict(X_test)\n",
    "print(\"accuracy is: \", grid.score(X_test, y_test))"
   ]
  },
  {
   "cell_type": "code",
   "execution_count": 44,
   "metadata": {},
   "outputs": [
    {
     "name": "stdout",
     "output_type": "stream",
     "text": [
      "[[135  91]\n",
      " [ 54 567]]\n"
     ]
    }
   ],
   "source": [
    "confusionMatrix1 = confusion_matrix(y_test, pred_logreg)\n",
    "print(confusionMatrix1)"
   ]
  },
  {
   "cell_type": "code",
   "execution_count": 45,
   "metadata": {},
   "outputs": [
    {
     "name": "stdout",
     "output_type": "stream",
     "text": [
      "9056\n",
      "\n",
      "\n",
      "['00', '000', '01', '01q', '02', '025557', '04', '05', '08', '09', '0b6ih', '0l3up', '0ugj', '0x5d38b30', '10', '100', '1001', '100s', '1010', '10239']\n",
      "\n",
      "\n",
      "['yyupfmh', 'yzxap7c', 'z3igz', 'z8ka', 'zanieladie', 'zaqzaqat', 'zbepwx', 'zd', 'zeal', 'zealand', 'zealot', 'zener39', 'zerogreenhouse', 'ziza', 'zoeart', 'zoecaron', 'zogme', 'zs', 'ztf', 'zunia']\n",
      "\n",
      "\n",
      "['00', '25w56lp', '9qj27x', 'alaska', 'aul3c2', 'bizwire', 'call', 'coda', 'cyyyvx', 'dnc', 'evidence', 'gaaaah', 'hitting', 'jamisondague', 'loses', 'mybookstop', 'patrickc', 'punch', 'saarc', 'sometimes', 'their', 'usw', 'x6cyd']\n"
     ]
    }
   ],
   "source": [
    "#Improve\n",
    "#check vocab\n",
    "features_names = vect.get_feature_names()\n",
    "print(len(features_names))\n",
    "print(\"\\n\")\n",
    "# print first 20 features\n",
    "print(features_names[:20])\n",
    "print(\"\\n\")\n",
    "# print last 20 features\n",
    "print(features_names[-20:])\n",
    "print(\"\\n\")\n",
    "# print every 50th word\n",
    "print(features_names[::400])"
   ]
  },
  {
   "cell_type": "code",
   "execution_count": 46,
   "metadata": {},
   "outputs": [
    {
     "name": "stdout",
     "output_type": "stream",
     "text": [
      "<3384x2476 sparse matrix of type '<class 'numpy.int64'>'\n",
      "\twith 48810 stored elements in Compressed Sparse Row format>\n"
     ]
    }
   ],
   "source": [
    "# We will use only the words that appear in at least 3 tweets -- In other words, we will use frequent words which are also likely to be in the test set\n",
    "# min_df controls this condition(min_df=3 means pick up words which appear\n",
    "# at least 3 documents)\n",
    "vect = CountVectorizer(min_df=3).fit(tweets_train)\n",
    "X_train = vect.transform(tweets_train)\n",
    "X_test = vect.transform(tweets_test)\n",
    "print(repr(X_train))"
   ]
  },
  {
   "cell_type": "code",
   "execution_count": 47,
   "metadata": {},
   "outputs": [
    {
     "name": "stdout",
     "output_type": "stream",
     "text": [
      "2476\n",
      "\n",
      "\n",
      "['00', '000', '02', '04', '09', '10', '100', '11', '12', '13', '14', '15', '16', '17', '18', '19', '1992', '1m', '1st', '20']\n",
      "\n",
      "\n",
      "['xrl', 'ya', 'yahoo', 'yeah', 'year', 'years', 'yeg8t', 'yes', 'yesterday', 'yet', 'yf34stp', 'york', 'yorkers', 'you', 'your', 'youth', 'youtu', 'youtube', 'yr', 'yup']\n",
      "\n",
      "\n",
      "['00', 'carbon', 'ethanol', 'investigate', 'orleans', 'snowmaggedon', 'whole']\n"
     ]
    }
   ],
   "source": [
    "features_names = vect.get_feature_names()\n",
    "print(len(features_names))\n",
    "print(\"\\n\")\n",
    "# print first 20 features\n",
    "print(features_names[:20])\n",
    "print(\"\\n\")\n",
    "# print last 20 features\n",
    "print(features_names[-20:])\n",
    "print(\"\\n\")\n",
    "# print every 50th word\n",
    "print(features_names[::400])"
   ]
  },
  {
   "cell_type": "code",
   "execution_count": 48,
   "metadata": {
    "collapsed": true
   },
   "outputs": [],
   "source": [
    "logreg = LogisticRegression()\n",
    "param_grid = {'C': [0.01, 0.1, 1, 10, 100]}\n",
    "\n",
    "grid = GridSearchCV(logreg, param_grid, cv=5)\n",
    "logreg_train = grid.fit(X_train, y_train)"
   ]
  },
  {
   "cell_type": "code",
   "execution_count": 49,
   "metadata": {},
   "outputs": [
    {
     "name": "stdout",
     "output_type": "stream",
     "text": [
      "accuracy is:  0.826446280992\n"
     ]
    }
   ],
   "source": [
    "# logreg = LogisticRegression(C=0.1).fit(X_train, y_train)\n",
    "pred_logreg = logreg_train.predict(X_test)\n",
    "print(\"accuracy is: \", grid.score(X_test, y_test))"
   ]
  },
  {
   "cell_type": "code",
   "execution_count": 50,
   "metadata": {},
   "outputs": [
    {
     "name": "stdout",
     "output_type": "stream",
     "text": [
      "[[125 101]\n",
      " [ 46 575]]\n"
     ]
    }
   ],
   "source": [
    "confusion = confusion_matrix(y_test, pred_logreg)\n",
    "print(confusion)"
   ]
  },
  {
   "cell_type": "code",
   "execution_count": 51,
   "metadata": {},
   "outputs": [
    {
     "name": "stdout",
     "output_type": "stream",
     "text": [
      "Number of stop words is : 318 \n",
      "\n",
      "Examples:  ['each', 'nevertheless', 'when', 'becomes', 'formerly', 'meanwhile', 'down', 'then', 'three', 'yourself', 'latter', 'cannot', 'within', 'before', 'perhaps', 'whatever', 'via', 'might', 'herein', 'otherwise', 'same', 'less', 'be', 'its', 'together', 'back', 'nine', 'found', 'former', 'and', 'the', 'other']\n"
     ]
    }
   ],
   "source": [
    "# remove stopwords\n",
    "from sklearn.feature_extraction.text import ENGLISH_STOP_WORDS\n",
    "print(\"Number of stop words is :\", len(ENGLISH_STOP_WORDS), \"\\n\")\n",
    "print(\"Examples: \", list(ENGLISH_STOP_WORDS)[::10])"
   ]
  },
  {
   "cell_type": "code",
   "execution_count": 52,
   "metadata": {},
   "outputs": [
    {
     "name": "stdout",
     "output_type": "stream",
     "text": [
      "<3384x2277 sparse matrix of type '<class 'numpy.int64'>'\n",
      "\twith 34982 stored elements in Compressed Sparse Row format>\n"
     ]
    }
   ],
   "source": [
    "vect = CountVectorizer(min_df=3, stop_words='english').fit(tweets_train)\n",
    "X_train = vect.transform(tweets_train)\n",
    "X_test = vect.transform(tweets_test)\n",
    "print(repr(X_train))"
   ]
  },
  {
   "cell_type": "code",
   "execution_count": 53,
   "metadata": {
    "collapsed": true
   },
   "outputs": [],
   "source": [
    "logreg = LogisticRegression()\n",
    "param_grid = {'C': [0.01, 0.1, 1, 10, 100]}\n",
    "\n",
    "grid = GridSearchCV(logreg, param_grid, cv=5)\n",
    "logreg_train = grid.fit(X_train, y_train)"
   ]
  },
  {
   "cell_type": "code",
   "execution_count": 54,
   "metadata": {},
   "outputs": [
    {
     "name": "stdout",
     "output_type": "stream",
     "text": [
      "accuracy is:  0.815820543093\n",
      "confusion matrix \n",
      " [[119 107]\n",
      " [ 49 572]]\n"
     ]
    }
   ],
   "source": [
    "# logreg = LogisticRegression(C=0.1).fit(X_train, y_train)\n",
    "pred_logreg = logreg_train.predict(X_test)\n",
    "print(\"accuracy is: \", grid.score(X_test, y_test))\n",
    "confusion = confusion_matrix(y_test, pred_logreg)\n",
    "print(\"confusion matrix \\n\", confusion)"
   ]
  },
  {
   "cell_type": "markdown",
   "metadata": {},
   "source": [
    "## TFIDF\n",
    "#### Difference from bag of words -- tfidf gives hight weights to the words which appear less in many document. In other words, it recoginizes the words showing specific document as important words (since these are the s features of the specific documents )"
   ]
  },
  {
   "cell_type": "code",
   "execution_count": 55,
   "metadata": {
    "collapsed": true
   },
   "outputs": [],
   "source": [
    "from sklearn.feature_extraction.text import TfidfVectorizer\n",
    "from sklearn.pipeline import make_pipeline"
   ]
  },
  {
   "cell_type": "code",
   "execution_count": 56,
   "metadata": {
    "collapsed": true
   },
   "outputs": [],
   "source": [
    "logreg = LogisticRegression()\n",
    "pipe = make_pipeline(TfidfVectorizer(min_df=3, norm=None, stop_words='english'), logreg)\n",
    "param_grid = {'logisticregression__C': [0.001, 0.01, 0.1, 1, 10]}\n",
    "\n",
    "grid = GridSearchCV(pipe, param_grid, cv=5)\n",
    "logreg_train = grid.fit(tweets_train, y_train)"
   ]
  },
  {
   "cell_type": "code",
   "execution_count": 57,
   "metadata": {},
   "outputs": [
    {
     "data": {
      "text/plain": [
       "dict_keys(['C', 'class_weight', 'dual', 'fit_intercept', 'intercept_scaling', 'max_iter', 'multi_class', 'n_jobs', 'penalty', 'random_state', 'solver', 'tol', 'verbose', 'warm_start'])"
      ]
     },
     "execution_count": 57,
     "metadata": {},
     "output_type": "execute_result"
    }
   ],
   "source": [
    "logreg.get_params().keys()"
   ]
  },
  {
   "cell_type": "code",
   "execution_count": 58,
   "metadata": {},
   "outputs": [
    {
     "name": "stdout",
     "output_type": "stream",
     "text": [
      "Pipeline(steps=[('tfidfvectorizer', TfidfVectorizer(analyzer='word', binary=False, decode_error='strict',\n",
      "        dtype=<class 'numpy.int64'>, encoding='utf-8', input='content',\n",
      "        lowercase=True, max_df=1.0, max_features=None, min_df=3,\n",
      "        ngram_range=(1, 1), norm=None, preprocessor=None, smooth_i...ty='l2', random_state=None, solver='liblinear', tol=0.0001,\n",
      "          verbose=0, warm_start=False))])\n"
     ]
    }
   ],
   "source": [
    "print(grid.best_estimator_)"
   ]
  },
  {
   "cell_type": "code",
   "execution_count": 59,
   "metadata": {},
   "outputs": [
    {
     "name": "stdout",
     "output_type": "stream",
     "text": [
      "accuracy is:  0.821723730815\n",
      "confusion matrix \n",
      " [[116 110]\n",
      " [ 41 580]]\n"
     ]
    }
   ],
   "source": [
    "# logreg = LogisticRegression(C=0.1).fit(X_train, y_train)\n",
    "pred_logreg = logreg_train.predict(tweets_test)\n",
    "print(\"accuracy is: \", grid.score(tweets_test, y_test))\n",
    "confusion = confusion_matrix(y_test, pred_logreg)\n",
    "print(\"confusion matrix \\n\", confusion)"
   ]
  },
  {
   "cell_type": "code",
   "execution_count": 60,
   "metadata": {},
   "outputs": [
    {
     "name": "stdout",
     "output_type": "stream",
     "text": [
      "features with lowest tfidf\n",
      "['ly' 'retwt' 'tcot' 'bit' 'oohja' 'http' 'dc' 'world' 'just' 'fight'\n",
      " 'tinyurl' 'worse' 'carbon' 'gd' 'p2' 'help' 'say' 'change' 'action' '2010'] \n",
      "\n",
      "featues with hightest tfidf\n",
      "['tht' 'logbooks' 'resorts' 'ski' 'amazing' 'microbes' 'vice' 'hotter'\n",
      " 'initiative' 'filmmaker' 'snow' 'cause' 'proof' 'mean' 'scam' 'invasive'\n",
      " 'gets' 'ca' 'oops' 'africa']\n"
     ]
    }
   ],
   "source": [
    "# Check which words are considered to be low tfidf(widely used words across many tweets) and high tfidf (used only in a few tweets)\n",
    "vectorizer = grid.best_estimator_.named_steps[\"tfidfvectorizer\"]\n",
    "X_train = vectorizer.transform(tweets_train)\n",
    "max_value = X_train.max(axis=0).toarray().ravel()\n",
    "sorted_by_tfidf = max_value.argsort()\n",
    "\n",
    "feature_names = np.array(vectorizer.get_feature_names())\n",
    "\n",
    "print(\"features with lowest tfidf\")\n",
    "print(feature_names[sorted_by_tfidf[:20]], '\\n')\n",
    "\n",
    "print(\"featues with hightest tfidf\")\n",
    "print(feature_names[sorted_by_tfidf[-20:]])"
   ]
  },
  {
   "cell_type": "code",
   "execution_count": 61,
   "metadata": {},
   "outputs": [
    {
     "name": "stdout",
     "output_type": "stream",
     "text": [
      "Requirement already satisfied: mglearn in c:\\users\\sande\\anaconda3\\lib\\site-packages\n",
      "Requirement already satisfied: pillow in c:\\users\\sande\\anaconda3\\lib\\site-packages (from mglearn)\n",
      "Requirement already satisfied: scikit-learn in c:\\users\\sande\\anaconda3\\lib\\site-packages (from mglearn)\n",
      "Requirement already satisfied: pandas in c:\\users\\sande\\anaconda3\\lib\\site-packages (from mglearn)\n",
      "Requirement already satisfied: numpy in c:\\users\\sande\\anaconda3\\lib\\site-packages (from mglearn)\n",
      "Requirement already satisfied: cycler in c:\\users\\sande\\anaconda3\\lib\\site-packages (from mglearn)\n",
      "Requirement already satisfied: matplotlib in c:\\users\\sande\\anaconda3\\lib\\site-packages (from mglearn)\n",
      "Requirement already satisfied: olefile in c:\\users\\sande\\anaconda3\\lib\\site-packages (from pillow->mglearn)\n",
      "Requirement already satisfied: python-dateutil>=2 in c:\\users\\sande\\anaconda3\\lib\\site-packages (from pandas->mglearn)\n",
      "Requirement already satisfied: pytz>=2011k in c:\\users\\sande\\anaconda3\\lib\\site-packages (from pandas->mglearn)\n",
      "Requirement already satisfied: six in c:\\users\\sande\\anaconda3\\lib\\site-packages (from cycler->mglearn)\n",
      "Requirement already satisfied: pyparsing!=2.0.4,!=2.1.2,!=2.1.6,>=1.5.6 in c:\\users\\sande\\anaconda3\\lib\\site-packages (from matplotlib->mglearn)\n"
     ]
    },
    {
     "name": "stderr",
     "output_type": "stream",
     "text": [
      "You are using pip version 9.0.1, however version 10.0.0 is available.\n",
      "You should consider upgrading via the 'python -m pip install --upgrade pip' command.\n"
     ]
    }
   ],
   "source": [
    "!pip install mglearn"
   ]
  },
  {
   "cell_type": "code",
   "execution_count": 62,
   "metadata": {},
   "outputs": [
    {
     "data": {
      "text/plain": [
       "<matplotlib.text.Text at 0x24b0bc93278>"
      ]
     },
     "execution_count": 62,
     "metadata": {},
     "output_type": "execute_result"
    },
    {
     "data": {
      "image/png": "[encoded data removed]",
      "text/plain": [
       "<matplotlib.figure.Figure at 0x24b09886240>"
      ]
     },
     "metadata": {},
     "output_type": "display_data"
    }
   ],
   "source": [
    "import mglearn \n",
    "mglearn.tools.visualize_coefficients(grid.best_estimator_.named_steps['logisticregression'].coef_, \n",
    "                                   feature_names, n_top_features=40)\n",
    "plt.title(\"tfidf-cofficient\")"
   ]
  },
  {
   "cell_type": "markdown",
   "metadata": {},
   "source": [
    "## Ngrams\n",
    "#### often single word is misleading predictor. For example, \"like\" and \"don't like\" are opposite"
   ]
  },
  {
   "cell_type": "code",
   "execution_count": 63,
   "metadata": {},
   "outputs": [
    {
     "name": "stdout",
     "output_type": "stream",
     "text": [
      "accuracy is:  0.822904368359\n",
      "confusion matrix \n",
      " [[128  98]\n",
      " [ 52 569]]\n"
     ]
    }
   ],
   "source": [
    "pipe = make_pipeline(TfidfVectorizer(min_df=3, stop_words='english'), logreg)\n",
    "param_grid = {'logisticregression__C': [0.001, 0.01, 0.1, 1, 10, 100], \n",
    "              'tfidfvectorizer__ngram_range': [(1,1), (1,2), (1,3)]}\n",
    "\n",
    "grid = GridSearchCV(pipe, param_grid, cv=5)\n",
    "logreg_train = grid.fit(tweets_train, y_train)\n",
    "\n",
    "# logreg = LogisticRegression(C=0.1).fit(X_train, y_train)\n",
    "pred_logreg = logreg_train.predict(tweets_test)\n",
    "print(\"accuracy is: \", grid.score(tweets_test, y_test))\n",
    "confusion = confusion_matrix(y_test, pred_logreg)\n",
    "print(\"confusion matrix \\n\", confusion)"
   ]
  },
  {
   "cell_type": "code",
   "execution_count": 64,
   "metadata": {},
   "outputs": [
    {
     "name": "stdout",
     "output_type": "stream",
     "text": [
      "Pipeline(steps=[('tfidfvectorizer', TfidfVectorizer(analyzer='word', binary=False, decode_error='strict',\n",
      "        dtype=<class 'numpy.int64'>, encoding='utf-8', input='content',\n",
      "        lowercase=True, max_df=1.0, max_features=None, min_df=3,\n",
      "        ngram_range=(1, 2), norm='l2', preprocessor=None, smooth_i...ty='l2', random_state=None, solver='liblinear', tol=0.0001,\n",
      "          verbose=0, warm_start=False))])\n"
     ]
    }
   ],
   "source": [
    "print(grid.best_estimator_)"
   ]
  },
  {
   "cell_type": "code",
   "execution_count": 65,
   "metadata": {},
   "outputs": [
    {
     "name": "stderr",
     "output_type": "stream",
     "text": [
      "C:\\Users\\sande\\Anaconda3\\lib\\site-packages\\sklearn\\model_selection\\_search.py:667: DeprecationWarning: The grid_scores_ attribute was deprecated in version 0.18 in favor of the more elaborate cv_results_ attribute. The grid_scores_ attribute will not be available from 0.20\n",
      "  DeprecationWarning)\n"
     ]
    },
    {
     "data": {
      "image/png": "[encoded data removed]",
      "text/plain": [
       "<matplotlib.figure.Figure at 0x24b0bcd3710>"
      ]
     },
     "metadata": {},
     "output_type": "display_data"
    }
   ],
   "source": [
    "scores = [s.mean_validation_score for s in grid.grid_scores_]\n",
    "scores = np.array(scores).reshape(-1, 3).T\n",
    "\n",
    "heatmap = mglearn.tools.heatmap(scores, xlabel=\"C\", ylabel=\"ngram_range\", \n",
    "                                xticklabels=param_grid['logisticregression__C'], \n",
    "                                yticklabels=param_grid['tfidfvectorizer__ngram_range'], \n",
    "                                cmap='viridis', fmt=\"%.3f\")\n",
    "plt.colorbar(heatmap);"
   ]
  },
  {
   "cell_type": "code",
   "execution_count": 66,
   "metadata": {},
   "outputs": [
    {
     "data": {
      "text/plain": [
       "<matplotlib.text.Text at 0x24b0c0141d0>"
      ]
     },
     "execution_count": 66,
     "metadata": {},
     "output_type": "execute_result"
    },
    {
     "data": {
      "image/png": "[encoded data removed]",
      "text/plain": [
       "<matplotlib.figure.Figure at 0x24b0beb08d0>"
      ]
     },
     "metadata": {},
     "output_type": "display_data"
    }
   ],
   "source": [
    "feature_names = np.array(grid.best_estimator_.named_steps['tfidfvectorizer'].get_feature_names())\n",
    "coef = grid.best_estimator_.named_steps['logisticregression'].coef_\n",
    "mglearn.tools.visualize_coefficients(coef,feature_names, n_top_features=40)\n",
    "plt.title(\"tfidf-cofficient\")"
   ]
  },
  {
   "cell_type": "code",
   "execution_count": null,
   "metadata": {
    "collapsed": true
   },
   "outputs": [],
   "source": []
  }
 ],
 "metadata": {
  "kernelspec": {
   "display_name": "Python 3",
   "language": "python",
   "name": "python3"
  },
  "language_info": {
   "codemirror_mode": {
    "name": "ipython",
    "version": 3
   },
   "file_extension": ".py",
   "mimetype": "text/x-python",
   "name": "python",
   "nbconvert_exporter": "python",
   "pygments_lexer": "ipython3",
   "version": "3.6.1"
  }
 },
 "nbformat": 4,
 "nbformat_minor": 2
}
